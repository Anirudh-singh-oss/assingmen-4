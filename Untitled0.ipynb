{
  "nbformat": 4,
  "nbformat_minor": 0,
  "metadata": {
    "colab": {
      "provenance": []
    },
    "kernelspec": {
      "name": "python3",
      "display_name": "Python 3"
    },
    "language_info": {
      "name": "python"
    }
  },
  "cells": [
    {
      "cell_type": "markdown",
      "source": [
        "# python oops question"
      ],
      "metadata": {
        "id": "LW7P8XnNzQLR"
      }
    },
    {
      "cell_type": "markdown",
      "source": [
        "1. first question\n",
        "\n",
        "* What is Object-Oriented Programming (OOP)?\n",
        "\n",
        "  first Answer\n",
        "\n",
        "  Object-Oriented Programming (OOP) is a programming paradigm that models software as a collection of interacting objects, which are instances of classes (blueprints) containing both data (attributes) and methods (functions) that operate on that data."
      ],
      "metadata": {
        "id": "l_dQN_eezcGG"
      }
    },
    {
      "cell_type": "markdown",
      "source": [
        "* second question?\n",
        "\n",
        "  Object Oriented Programming(OOP) Series: Attributes and ...In Object-Oriented Programming (OOP), a class is a user-defined blueprint or template from which objects are created."
      ],
      "metadata": {
        "id": "jnQajjw80SWi"
      }
    },
    {
      "cell_type": "markdown",
      "source": [
        "3. third question?\n",
        "\n",
        "   In Object-Oriented Programming (OOP), an object is a fundamental building block that represents a real-world entity, encapsulating both its data (attributes or properties) and functionality (methods or behaviors) into a single unit."
      ],
      "metadata": {
        "id": "p8Ef1EsC1LvK"
      }
    },
    {
      "cell_type": "markdown",
      "source": [
        "4.  fourth question?\n",
        "\n",
        ".  Abstraction focuses on hiding implementation details and exposing only essential features, defining what an object does, while encapsulation bundles data and methods together into a single unit, controlling access and protecting the internal state, thus ensuring how the object's data is managed and secured\n"
      ],
      "metadata": {
        "id": "Cg9lgQ0t14QI"
      }
    },
    {
      "cell_type": "markdown",
      "source": [
        "5. fifth question?\n",
        "\n",
        ".  Dunder methods, also known as magic methods, are special methods in Python that have double underscores at the beginning and end of their names (e.g., __init__, __add__, __str__). The term \"dunder\" is a contraction of \"double underscore.\""
      ],
      "metadata": {
        "id": "HmXpkGYW2hE2"
      }
    },
    {
      "cell_type": "markdown",
      "source": [
        "6. sixth question?\n",
        "\n",
        ".  In object-oriented programming (OOP), inheritance is a mechanism that allows a new class (the subclass or derived class) to acquire the properties and behaviors (methods) of an existing class (the superclass or base class)"
      ],
      "metadata": {
        "id": "Lz1hBS_a27pM"
      }
    },
    {
      "cell_type": "markdown",
      "source": [
        "7. seventh question?\n",
        "\n",
        ".  What is Polymorphism in Object-Oriented ProgrammingIn object-oriented programming (OOP), polymorphism is the ability of an object or an interface to take on many forms or exhibit different behaviors depending on the context"
      ],
      "metadata": {
        "id": "_VUYDGNZ3Vfa"
      }
    },
    {
      "cell_type": "markdown",
      "source": [
        "8 . eighth question?\n",
        "\n",
        ".  Encapsulation in Python, while not as strictly enforced as in some other object-oriented languages, is primarily achieved through conventions and mechanisms that promote data hiding and controlled access to an object's internal state."
      ],
      "metadata": {
        "id": "e4HXlA413sgk"
      }
    },
    {
      "cell_type": "markdown",
      "source": [
        "9. ninth question?\n",
        "\n",
        ".  In Python, a constructor is a special method used to initialize new objects of a class. It is automatically called when an object of the class is created. The primary purpose of a constructor is to set up the initial state of the object by assigning values to its attributes or executing any necessary setup logic."
      ],
      "metadata": {
        "id": "w00IwWYX4Ddt"
      }
    },
    {
      "cell_type": "markdown",
      "source": [
        "10. tenth question?\n",
        "\n",
        ".  CLASS METHOD\n",
        "\n",
        "A class method is bound to the class and not the instance of the class. It receives the class itself as its first argument, conventionally named cls. Class methods are defined using the @classmethod decorator.\n",
        "\n",
        "\n",
        ".  STATIC METHOD\n",
        "\n",
        "  A static method is a method that belongs to the class but does not have access to either the instance (self) or the class (cls). It functions like a regular function but is logically grouped within a class. Static methods are defined using the @staticmethod decorator."
      ],
      "metadata": {
        "id": "I-tmSBUz4Zd4"
      }
    },
    {
      "cell_type": "markdown",
      "source": [
        "11. eleventh question?\n",
        "\n",
        ".  Method overloading in Python refers to the concept of having multiple methods with the same name within a single class, but with different parameters or argument lists. While Python does not support method overloading in the traditional sense like statically-typed languages such as Java or C++, it provides mechanisms to achieve a similar effect."
      ],
      "metadata": {
        "id": "wTwahKeZ5FXx"
      }
    },
    {
      "cell_type": "markdown",
      "source": [
        "12. twelth question?\n",
        "\n",
        ". Method overriding in OOP allows a subclass to provide a specific implementation for a method that is already defined in its parent class, a process that is also known as runtime polymorphism."
      ],
      "metadata": {
        "id": "oy0S8aMH5cLr"
      }
    },
    {
      "cell_type": "markdown",
      "source": [
        "13. thirteenth question?\n",
        "\n",
        ".  The @property decorator in Python is a built-in feature that allows methods within a class to be accessed and managed like attributes. It provides a Pythonic way to implement getters, setters, and deleters for attributes, encapsulating logic related to attribute access without requiring the use of explicit method calls."
      ],
      "metadata": {
        "id": "EqYDhM_s6DpL"
      }
    },
    {
      "cell_type": "markdown",
      "source": [
        "14. fourteenth question?\n",
        "\n",
        ".  Polymorphism is important in OOP because it enables code reusability, flexibility, and extensibility by allowing objects of different types to be treated as objects of a common supertype, respond to the same method calls in their own specific ways, and for new subclasses to be added without altering existing code"
      ],
      "metadata": {
        "id": "9BmseLPl6W8r"
      }
    },
    {
      "cell_type": "markdown",
      "source": [
        "15. fifteenth question?\n",
        "\n",
        ".  An abstract class in Python is a class that cannot be instantiated directly and is designed to serve as a blueprint for other classes. It defines a common interface and structure that its subclasses must adhere to, particularly by requiring the implementation of certain methods."
      ],
      "metadata": {
        "id": "TR3eCMOc6v9a"
      }
    },
    {
      "cell_type": "markdown",
      "source": [
        "16. sixteenth question?\n",
        "\n",
        ".  The primary advantages of Object-Oriented Programming (OOP) are code reusability, making programs faster and more efficient, and modularity, which simplifies debugging and maintenance by breaking down complex systems into smaller, self-contained objects. OOP also enhances extensibility and flexibility through features like polymorphism and inheritance, allowing for adaptable software that can be easily updated"
      ],
      "metadata": {
        "id": "0PAd1V_L7PpW"
      }
    },
    {
      "cell_type": "markdown",
      "source": [
        "17. seventeenth question?\n",
        "\n",
        ".  CLASS VARIABLE\n",
        "\n",
        ". Scope and Ownership: A class variable belongs to the class itself, not to any specific instance of the class. There is only one copy of a class variable, which is shared by all objects created from that class.\n",
        "\n",
        ". Declaration: In many object-oriented languages (like Java), class variables are declared using the static keyword within the class, but outside of any method or constructor.\n",
        "\n",
        ". INCTENCE METHOD\n",
        "\n",
        ". Scope and Ownership: An instance variable belongs to a specific instance (object) of a class. Each object has its own independent copy of the instance variables.\n",
        "\n",
        ". Declaration: Instance variables are declared within a class but without the static keyword, usually within the __init__ method (in Python) or directly within the class definition (in Java, outside of any methods)."
      ],
      "metadata": {
        "id": "1_LxVy6D7nDL"
      }
    },
    {
      "cell_type": "markdown",
      "source": [
        "18. eighteenth question?\n",
        "\n",
        ".  Multiple inheritance in Python is a feature where a class can inherit attributes and methods from more than one parent class. This means a single child class can combine functionalities and characteristics from multiple distinct base classes."
      ],
      "metadata": {
        "id": "gRoxj9dd8mil"
      }
    },
    {
      "cell_type": "markdown",
      "source": [
        "19. ninteenth question?\n",
        "\n",
        ".  The __str__ and __repr__ methods in Python are special \"dunder\" (double underscore) methods that define how an object is represented as a string. While both return string representations, their intended audiences and purposes differ.\n",
        "\n",
        ".  STR METHOD\n",
        "\n",
        "Purpose: To provide a human-readable, informal, and user-friendly string representation of an object. This representation should be easily understandable by someone using the program, not necessarily a developer.\n",
        "\n",
        ". REPR METHOD\n",
        "\n",
        ". Purpose: To provide a formal, unambiguous, and detailed string representation of an object, primarily for debugging and development. The goal is often to create a string that, if passed to eval(), could potentially recreate the object.\n",
        "\n",
        "\n",
        "\n"
      ],
      "metadata": {
        "id": "tzdhV2vy87Rk"
      }
    },
    {
      "cell_type": "markdown",
      "source": [
        "20. twenty question?\n",
        "\n",
        ".   The super() function in Python holds significant importance within the context of object-oriented programming and inheritance. Its primary role is to provide a mechanism for a subclass to access methods and properties of its parent (or super) class."
      ],
      "metadata": {
        "id": "D1sZN3in90Jh"
      }
    },
    {
      "cell_type": "markdown",
      "source": [
        "21. twenty one question?\n",
        "\n",
        ".  The __del__ method in Python, often referred to as a destructor, holds significance primarily in resource management and cleanup. It is a special method that Python calls when an object is about to be destroyed, specifically when its reference count drops to zero and the garbage collector reclaims its memory."
      ],
      "metadata": {
        "id": "60hSk5ss-E5D"
      }
    },
    {
      "cell_type": "markdown",
      "source": [
        "22. twenty two question?\n",
        "\n",
        ".  CLASS METHOD\n",
        "\n",
        ". Purpose: Used for methods that operate on the class itself, rather than a specific instance of the class. They are often used as alternative constructors or to manage class-level data.\n",
        "\n",
        ".  Parameters: Takes the class itself as its first argument, conventionally named cls. This cls parameter allows the method to access and modify class attributes and call other class methods.\n",
        "\n",
        ".  STATIC METHOD?\n",
        "\n",
        ".  Purpose: Used for utility functions that logically belong to a class but do not require access to the class or its instances. They are essentially regular functions placed within a class for organizational purposes.\n",
        "\n",
        ". Parameters: Does not take any implicit first argument like self (for instance methods) or cls (for class methods). It only accepts the arguments explicitly passed to it."
      ],
      "metadata": {
        "id": "WF_C609y-Z-0"
      }
    },
    {
      "cell_type": "markdown",
      "source": [
        "23. twenty three question?\n",
        "\n",
        ".  Polymorphism in Python, particularly with inheritance, allows objects of different classes to be treated as objects of a common type, while still exhibiting their specific behaviors. This is primarily achieved through method overriding"
      ],
      "metadata": {
        "id": "_ebZE8sm_DcC"
      }
    },
    {
      "cell_type": "markdown",
      "source": [
        "24. twenty four question?\n",
        "\n",
        ".  Method chaining in Python Object-Oriented Programming (OOP) is a technique where multiple method calls are invoked sequentially on the same object in a single expression. This is achieved by having each method return the object itself (typically self), allowing the next method in the chain to be called directly on the result of the previous method."
      ],
      "metadata": {
        "id": "4e3EqmY8_aEL"
      }
    },
    {
      "cell_type": "markdown",
      "source": [
        "25. twenty five question?\n",
        "\n",
        ".  The purpose of the __call__ method in Python is to make instances of a class callable, meaning they can be invoked like regular functions.\n",
        "When a class defines a __call__ method, you can create an instance of that class and then call the instance directly using parentheses, just as you would call a function."
      ],
      "metadata": {
        "id": "8hMJ8Oas_uDo"
      }
    },
    {
      "cell_type": "markdown",
      "source": [
        "# Practical question Oops."
      ],
      "metadata": {
        "id": "hhR5XPmDADRz"
      }
    },
    {
      "cell_type": "markdown",
      "source": [
        "1. first question?\n"
      ],
      "metadata": {
        "id": "mqDZYV99AOkj"
      }
    },
    {
      "cell_type": "code",
      "source": [
        "class Animal:\n",
        "    def speak(self):\n",
        "        print(\"The animal makes a sound.\")\n",
        "\n",
        "class Dog(Animal):\n",
        "    def speak(self):\n",
        "        print(\"Bark!\")\n",
        "\n",
        "# Example usage:\n",
        "generic_animal = Animal()\n",
        "dog_instance = Dog()\n",
        "\n",
        "generic_animal.speak()\n",
        "dog_instance.speak()"
      ],
      "metadata": {
        "colab": {
          "base_uri": "https://localhost:8080/"
        },
        "id": "zgtEpOlBAbJ6",
        "outputId": "a355e342-e562-4630-93f7-ad0be1a596b7"
      },
      "execution_count": 1,
      "outputs": [
        {
          "output_type": "stream",
          "name": "stdout",
          "text": [
            "The animal makes a sound.\n",
            "Bark!\n"
          ]
        }
      ]
    },
    {
      "cell_type": "markdown",
      "source": [
        "2. second question?"
      ],
      "metadata": {
        "id": "rtVA4PreAx2L"
      }
    },
    {
      "cell_type": "code",
      "source": [
        "from abc import ABC, abstractmethod\n",
        "import math\n",
        "\n",
        "# Abstract base class\n",
        "class Shape(ABC):\n",
        "\n",
        "    @abstractmethod\n",
        "    def area(self):\n",
        "        pass\n",
        "\n",
        "\n",
        "# Derived class Circle\n",
        "class Circle(Shape):\n",
        "    def __init__(self, radius):\n",
        "        self.radius = radius\n",
        "\n",
        "    def area(self):\n",
        "        return math.pi * self.radius * self.radius\n",
        "\n",
        "\n",
        "# Derived class Rectangle\n",
        "class Rectangle(Shape):\n",
        "    def __init__(self, length, width):\n",
        "        self.length = length\n",
        "        self.width = width\n",
        "\n",
        "    def area(self):\n",
        "        return self.length * self.width\n",
        "\n",
        "\n",
        "# Example usage\n",
        "if __name__ == \"__main__\":\n",
        "    shapes = [\n",
        "        Circle(5),\n",
        "        Rectangle(4, 6)\n",
        "    ]\n",
        "\n",
        "    for shape in shapes:\n",
        "        print(f\"{shape.__class__.__name__} area: {shape.area():.2f}\")\n"
      ],
      "metadata": {
        "colab": {
          "base_uri": "https://localhost:8080/"
        },
        "id": "nbaFYj8MA2OU",
        "outputId": "87d05f2c-ae05-4022-fb1a-970eae988d6c"
      },
      "execution_count": 2,
      "outputs": [
        {
          "output_type": "stream",
          "name": "stdout",
          "text": [
            "Circle area: 78.54\n",
            "Rectangle area: 24.00\n"
          ]
        }
      ]
    },
    {
      "cell_type": "markdown",
      "source": [
        "3. third question?"
      ],
      "metadata": {
        "id": "3cYGjpjGBnfZ"
      }
    },
    {
      "cell_type": "code",
      "source": [
        "# Base class\n",
        "class Vehicle:\n",
        "    def __init__(self, vehicle_type):\n",
        "        self.type = vehicle_type\n",
        "\n",
        "    def show_info(self):\n",
        "        print(f\"Vehicle Type: {self.type}\")\n",
        "\n",
        "\n",
        "# Derived class\n",
        "class Car(Vehicle):\n",
        "    def __init__(self, vehicle_type, brand, model):\n",
        "        super().__init__(vehicle_type)   # Call Vehicle constructor\n",
        "        self.brand = brand\n",
        "        self.model = model\n",
        "\n",
        "    def show_info(self):\n",
        "        super().show_info()\n",
        "        print(f\"Car Brand: {self.brand}, Model: {self.model}\")\n",
        "\n",
        "\n",
        "# Further derived class\n",
        "class ElectricCar(Car):\n",
        "    def __init__(self, vehicle_type, brand, model, battery_capacity):\n",
        "        super().__init__(vehicle_type, brand, model)  # Call Car constructor\n",
        "        self.battery = battery_capacity\n",
        "\n",
        "    def show_info(self):\n",
        "        super().show_info()\n",
        "        print(f\"Battery Capacity: {self.battery} kWh\")\n",
        "\n",
        "\n",
        "# Example usage\n",
        "if __name__ == \"__main__\":\n",
        "    tesla = ElectricCar(\"Four Wheeler\", \"Tesla\", \"Model S\", 100)\n",
        "    tesla.show_info()\n"
      ],
      "metadata": {
        "colab": {
          "base_uri": "https://localhost:8080/"
        },
        "id": "dYjuLbgrBrUy",
        "outputId": "9941753b-cdd7-4ad0-a0d5-5f9357c6f97e"
      },
      "execution_count": 4,
      "outputs": [
        {
          "output_type": "stream",
          "name": "stdout",
          "text": [
            "Vehicle Type: Four Wheeler\n",
            "Car Brand: Tesla, Model: Model S\n",
            "Battery Capacity: 100 kWh\n"
          ]
        }
      ]
    },
    {
      "cell_type": "markdown",
      "source": [
        "4. fourth question?"
      ],
      "metadata": {
        "id": "m_gcuDksCSvY"
      }
    },
    {
      "cell_type": "code",
      "source": [
        "# Base class\n",
        "class Bird:\n",
        "    def fly(self):\n",
        "        print(\"Birds can fly (general behavior).\")\n",
        "\n",
        "\n",
        "# Derived class\n",
        "class Sparrow(Bird):\n",
        "    def fly(self):\n",
        "        print(\"Sparrow flies high in the sky.\")\n",
        "\n",
        "\n",
        "# Derived class\n",
        "class Penguin(Bird):\n",
        "    def fly(self):\n",
        "        print(\"Penguins cannot fly, they swim instead.\")\n",
        "\n",
        "\n",
        "# Example usage\n",
        "if __name__ == \"__main__\":\n",
        "    # Polymorphism in action\n",
        "    birds = [Sparrow(), Penguin(), Bird()]\n",
        "\n",
        "    for bird in birds:\n",
        "        bird.fly()   # Calls the overridden method depending on object type\n"
      ],
      "metadata": {
        "colab": {
          "base_uri": "https://localhost:8080/"
        },
        "id": "NQ3DTyH5CWsK",
        "outputId": "ce157092-f1b6-48f5-ffe1-67e88f620cf9"
      },
      "execution_count": 5,
      "outputs": [
        {
          "output_type": "stream",
          "name": "stdout",
          "text": [
            "Sparrow flies high in the sky.\n",
            "Penguins cannot fly, they swim instead.\n",
            "Birds can fly (general behavior).\n"
          ]
        }
      ]
    },
    {
      "cell_type": "markdown",
      "source": [
        "5. fifth question?"
      ],
      "metadata": {
        "id": "sK7Xl34QCnfj"
      }
    },
    {
      "cell_type": "code",
      "source": [
        "class BankAccount:\n",
        "    def __init__(self, initial_balance=0):\n",
        "        # Private attribute (cannot be accessed directly)\n",
        "        self.__balance = initial_balance\n",
        "\n",
        "    # Method to deposit money\n",
        "    def deposit(self, amount):\n",
        "        if amount > 0:\n",
        "            self.__balance += amount\n",
        "            print(f\"Deposited: {amount}\")\n",
        "        else:\n",
        "            print(\"Deposit amount must be positive.\")\n",
        "\n",
        "    # Method to withdraw money\n",
        "    def withdraw(self, amount):\n",
        "        if 0 < amount <= self.__balance:\n",
        "            self.__balance -= amount\n",
        "            print(f\"Withdrew: {amount}\")\n",
        "        else:\n",
        "            print(\"Insufficient funds or invalid amount.\")\n",
        "\n",
        "    # Method to check balance\n",
        "    def get_balance(self):\n",
        "        return self.__balance\n",
        "\n",
        "\n",
        "# Example usage\n",
        "if __name__ == \"__main__\":\n",
        "    account = BankAccount(1000)   # Starting balance = 1000\n",
        "    account.deposit(500)\n",
        "    account.withdraw(300)\n",
        "    print(\"Current Balance:\", account.get_balance())\n",
        "\n"
      ],
      "metadata": {
        "colab": {
          "base_uri": "https://localhost:8080/"
        },
        "id": "CLMVt2x_CvS4",
        "outputId": "4a5b5aa5-d17b-424e-e13d-0bcfd562fe58"
      },
      "execution_count": 6,
      "outputs": [
        {
          "output_type": "stream",
          "name": "stdout",
          "text": [
            "Deposited: 500\n",
            "Withdrew: 300\n",
            "Current Balance: 1200\n"
          ]
        }
      ]
    },
    {
      "cell_type": "markdown",
      "source": [
        "6. sixth question?"
      ],
      "metadata": {
        "id": "9h4sa2RAC-FS"
      }
    },
    {
      "cell_type": "code",
      "source": [
        "# Base class\n",
        "class Instrument:\n",
        "    def play(self):\n",
        "        print(\"An instrument is being played.\")\n",
        "\n",
        "\n",
        "# Derived class\n",
        "class Guitar(Instrument):\n",
        "    def play(self):\n",
        "        print(\"Strumming the guitar 🎸\")\n",
        "\n",
        "\n",
        "# Derived class\n",
        "class Piano(Instrument):\n",
        "    def play(self):\n",
        "        print(\"Playing the piano 🎹\")\n",
        "\n",
        "\n",
        "# Example usage\n",
        "if __name__ == \"__main__\":\n",
        "    instruments = [Guitar(), Piano(), Instrument()]\n",
        "\n",
        "    for instrument in instruments:\n",
        "        instrument.play()\n"
      ],
      "metadata": {
        "colab": {
          "base_uri": "https://localhost:8080/"
        },
        "id": "sPMnx8pSDCf2",
        "outputId": "2d1b88e1-1073-4814-f451-7485fe209a7c"
      },
      "execution_count": 7,
      "outputs": [
        {
          "output_type": "stream",
          "name": "stdout",
          "text": [
            "Strumming the guitar 🎸\n",
            "Playing the piano 🎹\n",
            "An instrument is being played.\n"
          ]
        }
      ]
    },
    {
      "cell_type": "markdown",
      "source": [
        "7. seventh question?"
      ],
      "metadata": {
        "id": "bso7JTQzDR3f"
      }
    },
    {
      "cell_type": "code",
      "source": [
        "class MathOperations:\n",
        "    # Class method (takes cls as first argument)\n",
        "    @classmethod\n",
        "    def add_numbers(cls, a, b):\n",
        "        return a + b\n",
        "\n",
        "    # Static method (no cls or self required)\n",
        "    @staticmethod\n",
        "    def subtract_numbers(a, b):\n",
        "        return a - b\n",
        "\n",
        "\n",
        "# Example usage\n",
        "if __name__ == \"__main__\":\n",
        "    # Calling class method\n",
        "    sum_result = MathOperations.add_numbers(10, 5)\n",
        "    print(\"Addition:\", sum_result)\n",
        "\n",
        "    # Calling static method\n",
        "    diff_result = MathOperations.subtract_numbers(10, 5)\n",
        "    print(\"Subtraction:\", diff_result)\n"
      ],
      "metadata": {
        "colab": {
          "base_uri": "https://localhost:8080/"
        },
        "id": "elP7981UDZOh",
        "outputId": "713292f3-cc44-4122-ec61-f1d6dae02670"
      },
      "execution_count": 8,
      "outputs": [
        {
          "output_type": "stream",
          "name": "stdout",
          "text": [
            "Addition: 15\n",
            "Subtraction: 5\n"
          ]
        }
      ]
    },
    {
      "cell_type": "markdown",
      "source": [
        "8. eighth question?"
      ],
      "metadata": {
        "id": "c07SHQEODz3T"
      }
    },
    {
      "cell_type": "code",
      "source": [
        "class Person:\n",
        "    # Class attribute to track number of persons\n",
        "    person_count = 0\n",
        "\n",
        "    def __init__(self, name):\n",
        "        self.name = name\n",
        "        Person.person_count += 1   # Increment count when a new object is created\n",
        "\n",
        "    # Class method to access total number of persons\n",
        "    @classmethod\n",
        "    def get_person_count(cls):\n",
        "        return cls.person_count\n",
        "\n",
        "\n",
        "# Example usage\n",
        "if __name__ == \"__main__\":\n",
        "    p1 = Person(\"Alice\")\n",
        "    p2 = Person(\"Bob\")\n",
        "    p3 = Person(\"Charlie\")\n",
        "\n",
        "    print(\"Total persons created:\", Person.get_person_count())\n"
      ],
      "metadata": {
        "colab": {
          "base_uri": "https://localhost:8080/"
        },
        "id": "2wMH85e_D4F3",
        "outputId": "82d10773-4421-4c23-dd08-240670bb6b19"
      },
      "execution_count": 9,
      "outputs": [
        {
          "output_type": "stream",
          "name": "stdout",
          "text": [
            "Total persons created: 3\n"
          ]
        }
      ]
    },
    {
      "cell_type": "markdown",
      "source": [
        "9. ninth question?"
      ],
      "metadata": {
        "id": "BkiopJQCD66B"
      }
    },
    {
      "cell_type": "code",
      "source": [
        "class Fraction:\n",
        "    def __init__(self, numerator, denominator):\n",
        "        if denominator == 0:\n",
        "            raise ValueError(\"Denominator cannot be zero.\")\n",
        "        self.numerator = numerator\n",
        "        self.denominator = denominator\n",
        "\n",
        "    # Override str method\n",
        "    def __str__(self):\n",
        "        return f\"{self.numerator}/{self.denominator}\"\n",
        "\n",
        "\n",
        "# Example usage\n",
        "if __name__ == \"__main__\":\n",
        "    f1 = Fraction(3, 4)\n",
        "    f2 = Fraction(5, 6)\n",
        "\n",
        "    print(f1)  # Calls __str__()\n",
        "    print(f2)  # Calls __str__()\n"
      ],
      "metadata": {
        "colab": {
          "base_uri": "https://localhost:8080/"
        },
        "id": "KezvXWSOEAIu",
        "outputId": "12b6297a-969d-4f32-83fc-4399b2fc2b4b"
      },
      "execution_count": 10,
      "outputs": [
        {
          "output_type": "stream",
          "name": "stdout",
          "text": [
            "3/4\n",
            "5/6\n"
          ]
        }
      ]
    },
    {
      "cell_type": "markdown",
      "source": [
        "10. tenth question?"
      ],
      "metadata": {
        "id": "Tb-Va-mXEKsk"
      }
    },
    {
      "cell_type": "code",
      "source": [
        "class Vector:\n",
        "    def __init__(self, x, y):\n",
        "        self.x = x\n",
        "        self.y = y\n",
        "\n",
        "    # Operator overloading for +\n",
        "    def __add__(self, other):\n",
        "        return Vector(self.x + other.x, self.y + other.y)\n",
        "\n",
        "    # For readable output\n",
        "    def __str__(self):\n",
        "        return f\"({self.x}, {self.y})\"\n",
        "\n",
        "\n",
        "# Example usage\n",
        "if __name__ == \"__main__\":\n",
        "    v1 = Vector(2, 3)\n",
        "    v2 = Vector(4, 5)\n",
        "\n",
        "    v3 = v1 + v2   # Calls __add__()\n",
        "\n",
        "    print(\"Vector 1:\", v1)\n",
        "    print(\"Vector 2:\", v2)\n",
        "    print(\"Vector 1 + Vector 2 =\", v3)\n"
      ],
      "metadata": {
        "colab": {
          "base_uri": "https://localhost:8080/"
        },
        "id": "Jvy9khNyEZ1N",
        "outputId": "74538ef0-c86c-4920-de1f-f11d4b1f2a17"
      },
      "execution_count": 11,
      "outputs": [
        {
          "output_type": "stream",
          "name": "stdout",
          "text": [
            "Vector 1: (2, 3)\n",
            "Vector 2: (4, 5)\n",
            "Vector 1 + Vector 2 = (6, 8)\n"
          ]
        }
      ]
    },
    {
      "cell_type": "markdown",
      "source": [
        "11. eleventh question?"
      ],
      "metadata": {
        "id": "iDI5RwSpEjs6"
      }
    },
    {
      "cell_type": "code",
      "source": [
        "class Person:\n",
        "    def __init__(self, name, age):\n",
        "        self.name = name\n",
        "        self.age = age\n",
        "\n",
        "    # Method to greet\n",
        "    def greet(self):\n",
        "        print(f\"Hello, my name is {self.name} and I am {self.age} years old.\")\n",
        "\n",
        "\n",
        "# Example usage\n",
        "if __name__ == \"__main__\":\n",
        "    p1 = Person(\"Alice\", 25)\n",
        "    p2 = Person(\"Bob\", 30)\n",
        "\n",
        "    p1.greet()\n",
        "    p2.greet()\n"
      ],
      "metadata": {
        "colab": {
          "base_uri": "https://localhost:8080/"
        },
        "id": "0-ZZb_9CEusf",
        "outputId": "7316f83d-1150-4597-d651-b9f950377218"
      },
      "execution_count": 12,
      "outputs": [
        {
          "output_type": "stream",
          "name": "stdout",
          "text": [
            "Hello, my name is Alice and I am 25 years old.\n",
            "Hello, my name is Bob and I am 30 years old.\n"
          ]
        }
      ]
    },
    {
      "cell_type": "markdown",
      "source": [
        "12. twelth question?"
      ],
      "metadata": {
        "id": "2HBQ_74QEw9E"
      }
    },
    {
      "cell_type": "code",
      "source": [
        "class Student:\n",
        "    def __init__(self, name, grades):\n",
        "        self.name = name\n",
        "        self.grades = grades  # grades should be a list of numbers\n",
        "\n",
        "    # Method to compute average grade\n",
        "    def average_grade(self):\n",
        "        if not self.grades:\n",
        "            return 0\n"
      ],
      "metadata": {
        "id": "qX3OhQ5EE4wA"
      },
      "execution_count": 13,
      "outputs": []
    },
    {
      "cell_type": "markdown",
      "source": [
        "13. thirteen question?"
      ],
      "metadata": {
        "id": "3-p3W29cFBv5"
      }
    },
    {
      "cell_type": "code",
      "source": [
        "class Rectangle:\n",
        "    def __init__(self):\n",
        "        self.length = 0\n",
        "        self.width = 0\n",
        "\n",
        "    # Method to set dimensions\n",
        "    def set_dimensions(self, length, width):\n",
        "        if length <= 0 or width <= 0:\n",
        "            print(\"Length and width must be positive numbers.\")\n",
        "            return\n",
        "        self\n"
      ],
      "metadata": {
        "id": "yH1ySiuhFGFa"
      },
      "execution_count": 15,
      "outputs": []
    },
    {
      "cell_type": "markdown",
      "source": [
        "14. fourteen question?"
      ],
      "metadata": {
        "id": "pjKL_P-vFUXb"
      }
    },
    {
      "cell_type": "code",
      "source": [
        "# Base class\n",
        "class Employee:\n",
        "    def __init__(self, name, hours_worked, hourly_rate):\n",
        "        self.name = name\n",
        "        self.hours_worked = hours_worked\n",
        "        self.hourly_rate = hourly_rate\n",
        "\n",
        "    # Method to calculate salary\n",
        "    def calculate_salary(self):\n",
        "        return self.hours_worked * self.hourly_rate\n",
        "\n",
        "\n",
        "# Derived class\n",
        "class Manager(Employee):\n",
        "    def __init__(self, name, hours_worked, hourly_rate, bonus):\n",
        "        super().__init__(name, hours_worked, hourly_rate)\n",
        "        self.bonus = bonus\n",
        "\n",
        "    # Override calculate_salary to include bonus\n",
        "    def calculate_salary(self):\n",
        "        base_salary = super().calculate_salary()\n",
        "        return base_salary + self.bonus\n",
        "\n",
        "\n",
        "# Example usage\n",
        "if __name__ == \"__main__\":\n",
        "    emp = Employee(\"Alice\", 40, 20)      # 40 hours, $20/hour\n",
        "    mgr = Manager(\"Bob\", 40, 20, 500)    # 40 hours, $20/hour + $500 bonus\n",
        "\n",
        "    print(f\"{emp.name}'s Salary: ${emp.calculate_salary()}\")\n",
        "    print(f\"{mgr.name}'s Salary: ${mgr.calculate_salary()}\")\n"
      ],
      "metadata": {
        "colab": {
          "base_uri": "https://localhost:8080/"
        },
        "id": "3Sz7vFyPFZPy",
        "outputId": "d6788e27-79c0-49b3-a4b5-dca1c9506220"
      },
      "execution_count": 16,
      "outputs": [
        {
          "output_type": "stream",
          "name": "stdout",
          "text": [
            "Alice's Salary: $800\n",
            "Bob's Salary: $1300\n"
          ]
        }
      ]
    },
    {
      "cell_type": "markdown",
      "source": [
        "15. fifteenth question?"
      ],
      "metadata": {
        "id": "nTKPKBTzF1wx"
      }
    },
    {
      "cell_type": "code",
      "source": [
        "class Product:\n",
        "    def __init__(self, name, price, quantity):\n",
        "        self.name = name\n",
        "        self.price = price\n",
        "        self.quantity = quantity\n",
        "\n",
        "    # Method to calculate total price\n",
        "    def total_price(self):\n",
        "        return self.price * self.quantity\n",
        "\n",
        "\n",
        "# Example usage\n",
        "if __name__ == \"__main__\":\n",
        "    product1 = Product(\"Laptop\", 750, 2)\n",
        "    product2 = Product(\"Mouse\", 25, 4)\n",
        "\n",
        "    print(f\"Total price of {product1.name}: ${product1.total_price()}\")\n",
        "    print(f\"Total price of {product2.name}: ${product2.total_price()}\")\n"
      ],
      "metadata": {
        "colab": {
          "base_uri": "https://localhost:8080/"
        },
        "id": "hXVAQOY4F5eF",
        "outputId": "e0e241ca-44c3-470b-dd9a-f31cfc4d068e"
      },
      "execution_count": 17,
      "outputs": [
        {
          "output_type": "stream",
          "name": "stdout",
          "text": [
            "Total price of Laptop: $1500\n",
            "Total price of Mouse: $100\n"
          ]
        }
      ]
    },
    {
      "cell_type": "markdown",
      "source": [
        "16. sixteenth question?"
      ],
      "metadata": {
        "id": "5CmqGL-oGFXS"
      }
    },
    {
      "cell_type": "code",
      "source": [
        "from abc import ABC, abstractmethod\n",
        "\n",
        "# Abstract base class\n",
        "class Animal(ABC):\n",
        "    @abstractmethod\n",
        "    def sound(self):\n",
        "        pass\n",
        "\n",
        "\n",
        "# Derived class\n",
        "class Cow(Animal):\n",
        "    def sound(self):\n",
        "        print(\"Cow says: Moo 🐄\")\n",
        "\n",
        "\n",
        "# Derived class\n",
        "class Sheep(Animal):\n",
        "    def sound(self):\n",
        "        print(\"Sheep says: Baa 🐑\")\n",
        "\n",
        "\n",
        "# Example usage\n",
        "if __name__ == \"__main__\":\n",
        "    animals = [Cow(), Sheep()]\n",
        "\n",
        "    for animal in animals:\n",
        "        animal.sound()   # Calls the specific implementation\n"
      ],
      "metadata": {
        "colab": {
          "base_uri": "https://localhost:8080/"
        },
        "id": "Y6p6xeWuGKY_",
        "outputId": "8865b0e8-3c2e-4812-b354-a1ac75da6adf"
      },
      "execution_count": 18,
      "outputs": [
        {
          "output_type": "stream",
          "name": "stdout",
          "text": [
            "Cow says: Moo 🐄\n",
            "Sheep says: Baa 🐑\n"
          ]
        }
      ]
    },
    {
      "cell_type": "markdown",
      "source": [
        "17. seventeenth question?"
      ],
      "metadata": {
        "id": "doxWwWkWGSgb"
      }
    },
    {
      "cell_type": "code",
      "source": [
        "class Book:\n",
        "    def __init__(self, title, author, year_published):\n",
        "        self.title = title\n",
        "        self.author = author\n",
        "        self.year_published = year_published\n",
        "\n",
        "    # Method to return formatted book information\n",
        "    def get_book_info(self):\n",
        "        return f\"'{self.title}' by {self.author}, published in {self.year_published}\"\n",
        "\n",
        "\n",
        "# Example usage\n",
        "if __name__ == \"__main__\":\n",
        "    book1 = Book(\"To Kill a Mockingbird\", \"Harper Lee\", 1960)\n",
        "    book2 = Book(\"1984\", \"George Orwell\", 1949)\n",
        "\n",
        "    print(book1.get_book_info())\n",
        "    print(book2.get_book_info())\n"
      ],
      "metadata": {
        "colab": {
          "base_uri": "https://localhost:8080/"
        },
        "id": "yzY-vh9vG3u8",
        "outputId": "ddf08427-7922-4bd2-b413-aaa095357ca9"
      },
      "execution_count": 22,
      "outputs": [
        {
          "output_type": "stream",
          "name": "stdout",
          "text": [
            "'To Kill a Mockingbird' by Harper Lee, published in 1960\n",
            "'1984' by George Orwell, published in 1949\n"
          ]
        }
      ]
    },
    {
      "cell_type": "markdown",
      "source": [
        "18. eighteenth question?"
      ],
      "metadata": {
        "id": "zKUA4_kMG-5r"
      }
    },
    {
      "cell_type": "code",
      "source": [
        "# Base class\n",
        "class House:\n",
        "    def __init__(self, address, price):\n",
        "        self.address = address\n",
        "        self.price = price\n",
        "\n",
        "    def get_info(self):\n",
        "        return f\"Address: {self.address}, Price: ${self.price}\"\n",
        "\n",
        "\n",
        "# Derived class\n",
        "class Mansion(House):\n",
        "    def __init__(self, address, price, number_of_rooms):\n",
        "        super().__init__(address, price)  # Call base class constructor\n",
        "        self.number_of_rooms = number_of_rooms\n",
        "\n",
        "    def get_info(self):\n",
        "        return f\"Address: {self.address}, Price: ${self.price}, Rooms: {self.number_of_rooms}\"\n",
        "\n",
        "\n",
        "# Example usage\n",
        "if __name__ == \"__main__\":\n",
        "    house = House(\"123 Elm St\", 250000)\n",
        "    mansion = Mansion(\"456 Oak Ave\", 1500000, 10)\n",
        "\n",
        "    print(house.get_info())\n",
        "    print(mansion.get_info())\n"
      ],
      "metadata": {
        "colab": {
          "base_uri": "https://localhost:8080/"
        },
        "id": "quImnRmvHCtN",
        "outputId": "810262bd-c1c2-400d-b000-c6060e4bb09e"
      },
      "execution_count": 23,
      "outputs": [
        {
          "output_type": "stream",
          "name": "stdout",
          "text": [
            "Address: 123 Elm St, Price: $250000\n",
            "Address: 456 Oak Ave, Price: $1500000, Rooms: 10\n"
          ]
        }
      ]
    }
  ]
}